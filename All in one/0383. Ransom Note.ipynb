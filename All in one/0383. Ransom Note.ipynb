{
 "cells": [
  {
   "cell_type": "markdown",
   "metadata": {},
   "source": [
    "383. Ransom Note\n",
    "\n",
    "https://leetcode.com/problems/ransom-note/description/\n",
    "\n",
    "Given two strings ransomNote and magazine, return true if ransomNote can be constructed by using the letters from magazine and false otherwise.\n",
    "\n",
    "Each letter in magazine can only be used once in ransomNote.\n",
    "\n",
    " \n",
    "\n",
    "Example 1:\n",
    "\n",
    "Input: ransomNote = \"a\", magazine = \"b\"\n",
    "Output: false\n",
    "Example 2:\n",
    "\n",
    "Input: ransomNote = \"aa\", magazine = \"ab\"\n",
    "Output: false\n",
    "Example 3:\n",
    "\n",
    "Input: ransomNote = \"aa\", magazine = \"aab\"\n",
    "Output: true"
   ]
  },
  {
   "cell_type": "markdown",
   "metadata": {},
   "source": [
    "Hashmap"
   ]
  },
  {
   "cell_type": "code",
   "execution_count": 1,
   "metadata": {},
   "outputs": [],
   "source": [
    "class Solution:\n",
    "    def can_construct(self, ransomNote:str, magazine:str) -> bool:\n",
    "        cnt ={}\n",
    "        for c in magazine:\n",
    "            if c in cnt:\n",
    "                cnt[c] += 1\n",
    "            else:\n",
    "                cnt[c] = 1\n",
    "        \n",
    "        for c in ransomNote:\n",
    "            if c not in cnt or cnt[c] == 0:\n",
    "                return False\n",
    "            else:\n",
    "                cnt[c] -= 1\n",
    "        \n",
    "        return True\n",
    "        \n"
   ]
  },
  {
   "cell_type": "code",
   "execution_count": null,
   "metadata": {},
   "outputs": [],
   "source": [
    "class Solution:\n",
    "    def can_construct(self, ransomNote: str, magazine: str) -> bool:\n",
    "        cnt = {}\n",
    "        for c in magazine:\n",
    "            cnt[c] = cnt.get(c, 0) + 1\n",
    "        for c in ransomNote:\n",
    "            if cnt.get(c, 0) == 0:\n",
    "                return False\n",
    "            cnt[c] -= 1\n",
    "        return True"
   ]
  },
  {
   "cell_type": "markdown",
   "metadata": {},
   "source": [
    "以下是代码的逐行解释，包含中文注释：\n",
    "\n",
    "```python\n",
    "class Solution:\n",
    "    def can_construct(self, ransomNote: str, magazine: str) -> bool:\n",
    "        # 创建一个字典 cnt 用于记录 magazine 中每个字符的出现次数\n",
    "        cnt = {}\n",
    "\n",
    "        # 遍历 magazine 字符串，将每个字符的出现次数记录在 cnt 中\n",
    "        for c in magazine:\n",
    "            # 如果字符 c 已经存在于字典 cnt 中，则其值增加 1，否则初始化为 1\n",
    "            cnt[c] = cnt.get(c, 0) + 1\n",
    "\n",
    "        # 遍历 ransomNote 字符串，检查是否可以构建 ransomNote\n",
    "        for c in ransomNote:\n",
    "            # 如果 ransomNote 中的字符 c 在 cnt 中不存在或 cnt[c] 为 0，说明不能构建 ransomNote，返回 False\n",
    "            if cnt.get(c, 0) == 0:\n",
    "                return False\n",
    "            # 如果字符 c 存在于 cnt 中，且其值大于 0，表示可以使用这个字符，将其计数减 1\n",
    "            cnt[c] -= 1\n",
    "\n",
    "        # 如果所有字符都匹配成功，返回 True\n",
    "        return True\n",
    "```\n",
    "\n",
    "### 逐行解释：\n",
    "\n",
    "1. **字典初始化**：\n",
    "   - `cnt = {}`：初始化一个空字典 `cnt`，用于存储 `magazine` 中每个字符的出现次数。\n",
    "   \n",
    "2. **遍历 `magazine`**：\n",
    "   - `for c in magazine`：遍历 `magazine` 字符串的每个字符 `c`。\n",
    "   - `cnt[c] = cnt.get(c, 0) + 1`：对于每个字符 `c`，使用 `get(c, 0)` 来获取其计数（如果不存在则返回 0），然后加 1 表示该字符在 `magazine` 中又多出现了一次。\n",
    "\n",
    "3. **遍历 `ransomNote`**：\n",
    "   - `for c in ransomNote`：遍历 `ransomNote` 中的每个字符 `c`。\n",
    "   - `if cnt.get(c, 0) == 0`：使用 `get(c, 0)` 检查当前字符 `c` 在 `cnt` 中的计数是否为 0。如果计数为 0，说明 `magazine` 中没有足够的字符 `c` 来构建 `ransomNote`，返回 `False`。\n",
    "   - `cnt[c] -= 1`：如果字符 `c` 存在且计数大于 0，表示该字符可以使用，将其计数减 1。\n",
    "\n",
    "4. **返回结果**：\n",
    "   - `return True`：如果所有字符都通过检查，说明 `ransomNote` 中的所有字符都可以从 `magazine` 中找到并且数量足够，因此返回 `True`。\n",
    "\n",
    "### 时间复杂度和空间复杂度：\n",
    "\n",
    "- **时间复杂度**：`O(n + m)`，其中 `n` 是 `ransomNote` 的长度，`m` 是 `magazine` 的长度。我们遍历了 `magazine` 和 `ransomNote` 各一次，所以总的时间复杂度为线性。\n",
    "  \n",
    "- **空间复杂度**：`O(k)`，其中 `k` 是 `magazine` 中唯一字符的个数。字典 `cnt` 存储了每个唯一字符及其计数。\n",
    "\n",
    "### 关键点：\n",
    "- 通过一个字典 `cnt` 来存储 `magazine` 中每个字符的计数。\n",
    "- 遍历 `ransomNote` 时，逐一检查每个字符在 `magazine` 中是否存在，并且数量是否足够。\n",
    "- 使用 `get()` 函数来避免处理键不存在的情况，这可以使代码更简洁高效。\n",
    "\n",
    "这段代码在字符匹配方面进行了优化，最大限度地减少了不必要的操作，使其在时间和空间复杂度上都非常高效。"
   ]
  }
 ],
 "metadata": {
  "kernelspec": {
   "display_name": "Python 3",
   "language": "python",
   "name": "python3"
  },
  "language_info": {
   "codemirror_mode": {
    "name": "ipython",
    "version": 3
   },
   "file_extension": ".py",
   "mimetype": "text/x-python",
   "name": "python",
   "nbconvert_exporter": "python",
   "pygments_lexer": "ipython3",
   "version": "3.12.2"
  }
 },
 "nbformat": 4,
 "nbformat_minor": 2
}
