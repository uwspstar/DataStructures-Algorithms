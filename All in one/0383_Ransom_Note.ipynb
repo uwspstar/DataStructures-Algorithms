{
 "cells": [
  {
   "cell_type": "markdown",
   "metadata": {},
   "source": [
    "383. Ransom Note\n",
    "https://leetcode.com/problems/ransom-note/description/\n",
    "\n",
    "Given two strings ransomNote and magazine, return true if ransomNote can be constructed by using the letters from magazine and false otherwise.\n",
    "\n",
    "Each letter in magazine can only be used once in ransomNote.\n",
    "\n",
    " \n",
    "\n",
    "Example 1:\n",
    "\n",
    "Input: ransomNote = \"a\", magazine = \"b\"\n",
    "Output: false\n",
    "Example 2:\n",
    "\n",
    "Input: ransomNote = \"aa\", magazine = \"ab\"\n",
    "Output: false\n",
    "Example 3:\n",
    "\n",
    "Input: ransomNote = \"aa\", magazine = \"aab\"\n",
    "Output: true"
   ]
  },
  {
   "cell_type": "markdown",
   "metadata": {},
   "source": [
    "Hashmap"
   ]
  },
  {
   "cell_type": "code",
   "execution_count": 1,
   "metadata": {},
   "outputs": [],
   "source": [
    "class Solution:\n",
    "    def can_construct(self, ransomNote:str, magazine:str) -> bool:\n",
    "        cnt ={}\n",
    "        for c in magazine:\n",
    "            if c in cnt:\n",
    "                cnt[c] += 1\n",
    "            else:\n",
    "                cnt[c] = 1\n",
    "        \n",
    "        for c in ransomNote:\n",
    "            if c not in cnt or cnt[c] == 0:\n",
    "                return False\n",
    "            else:\n",
    "                cnt[c] -= 1\n",
    "        \n",
    "        return False\n",
    "        \n"
   ]
  },
  {
   "cell_type": "code",
   "execution_count": null,
   "metadata": {},
   "outputs": [],
   "source": [
    "class Solution:\n",
    "    def can_construct(self, ransomNote: str, magazine: str) -> bool:\n",
    "        cnt = {}\n",
    "        for c in magazine:\n",
    "            cnt[c] = cnt.get(c, 0) + 1\n",
    "        for c in ransomNote:\n",
    "            if cnt.get(c, 0) == 0:\n",
    "                return False\n",
    "            cnt[c] -= 1\n",
    "        return True"
   ]
  }
 ],
 "metadata": {
  "kernelspec": {
   "display_name": "Python 3",
   "language": "python",
   "name": "python3"
  },
  "language_info": {
   "codemirror_mode": {
    "name": "ipython",
    "version": 3
   },
   "file_extension": ".py",
   "mimetype": "text/x-python",
   "name": "python",
   "nbconvert_exporter": "python",
   "pygments_lexer": "ipython3",
   "version": "3.12.2"
  }
 },
 "nbformat": 4,
 "nbformat_minor": 2
}
