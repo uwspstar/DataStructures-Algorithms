{
 "cells": [
  {
   "cell_type": "markdown",
   "metadata": {},
   "source": [
    "1. Two Sum\n",
    "\n",
    "https://leetcode.com/problems/two-sum/description/\n",
    "\n",
    "Given an array of integers nums and an integer target, return indices of the two numbers such that they add up to target. You may assume that each input would have exactly one solution, and you may not use the same element twice. You can return the answer in any order.\n",
    "\n",
    "Example:\n",
    "\n",
    "Input: nums = [2,7,11,15], target = 9\n",
    "Output: [0,1]\n",
    "Explanation: Because nums[0] + nums[1] == 9, we return [0, 1].\n",
    "Input: nums = [3,2,4], target = 6\n",
    "Output: [1,2]\n",
    "Input: nums = [3,3], target = 6\n",
    "Output: [0,1]"
   ]
  },
  {
   "cell_type": "markdown",
   "metadata": {},
   "source": [
    "# Hint\n",
    "\n",
    "Hashmap\n",
    "diff = target - num\n",
    "i, num in enumerate(nums)"
   ]
  },
  {
   "cell_type": "code",
   "execution_count": 13,
   "metadata": {},
   "outputs": [],
   "source": [
    "class Solution:\n",
    "    def twoSum(self, nums: list[int], target: int) -> list[int]: \n",
    "        num_map = {}\n",
    "        for i, num in enumerate(nums):\n",
    "            diff = target - num\n",
    "            if diff in num_map:\n",
    "                return [num_map[diff], i]\n",
    "            else:\n",
    "                num_map[num] = i\n",
    "        \n",
    "        return [-1, -1]\n",
    "\n"
   ]
  },
  {
   "cell_type": "markdown",
   "metadata": {},
   "source": [
    "以下是代码的逐行解释，包含中文注释：\n",
    "\n",
    "```python\n",
    "class Solution:\n",
    "    def twoSum(self, nums: list[int], target: int) -> list[int]:\n",
    "        # 创建一个空的字典 num_map 用于存储数组中每个数的值和它的索引\n",
    "        num_map = {}\n",
    "        \n",
    "        # 使用 enumerate 函数遍历 nums 列表，i 是索引，num 是当前的数字\n",
    "        for i, num in enumerate(nums):\n",
    "            # 计算目标值与当前数之间的差值 diff\n",
    "            diff = target - num\n",
    "            \n",
    "            # 如果差值 diff 已经存在于 num_map 字典中，\n",
    "            # 说明我们找到了两个数，它们的和等于目标值 target\n",
    "            if diff in num_map:\n",
    "                # 返回两个数的索引，分别是差值 diff 对应的索引 num_map[diff] 和当前数的索引 i\n",
    "                return [num_map[diff], i]\n",
    "            else:\n",
    "                # 如果差值不在字典中，将当前数 num 和它的索引 i 存入字典 num_map\n",
    "                num_map[num] = i\n",
    "        \n",
    "        # 如果遍历结束后没有找到两个数的和等于目标值，返回 [-1, -1]\n",
    "        return [-1, -1]\n",
    "```\n",
    "\n",
    "### 逐行解释：\n",
    "1. **创建字典**：首先，`num_map` 是一个空的字典，用于存储 `nums` 列表中的数字及其对应的索引位置。这样，当我们遇到一个数时，我们可以通过查找差值是否存在于字典中来快速确定是否有两个数的和为 `target`。\n",
    "  \n",
    "2. **遍历 `nums` 列表**：\n",
    "   - 通过 `enumerate()` 函数遍历 `nums` 列表，`i` 是当前数字的索引，`num` 是当前数字。\n",
    "   - 对于每个数字，我们计算 `target - num`，这就是我们希望能够通过之前的数字来凑成 `target` 的差值。\n",
    "\n",
    "3. **查找和更新字典**：\n",
    "   - 如果差值 `diff` 存在于 `num_map` 字典中，这意味着我们找到了两个数，它们的和等于 `target`，一个数是 `num_map[diff]` 对应的索引，另一个数是当前索引 `i`。\n",
    "   - 如果差值不在字典中，我们将当前的数字 `num` 和它的索引 `i` 添加到字典中，供后续的数字查找使用。\n",
    "\n",
    "4. **返回结果**：\n",
    "   - 如果找到了满足条件的两个数，返回它们的索引。\n",
    "   - 如果遍历结束后没有找到符合条件的数字对，则返回 `[-1, -1]`。\n",
    "\n",
    "### 时间复杂度 (Big O) 分析：\n",
    "- **时间复杂度**：`O(n)`，其中 `n` 是 `nums` 列表中的元素个数。\n",
    "  - 我们只遍历 `nums` 一次，在每次迭代中执行常数时间的字典查找和插入操作（查找和插入的时间复杂度都是 `O(1)`）。\n",
    "  \n",
    "- **空间复杂度**：`O(n)`，我们使用了一个字典 `num_map` 来存储最多 `n` 个元素。\n",
    "\n",
    "因此，整体的时间复杂度是 `O(n)`，空间复杂度也是 `O(n)`。"
   ]
  },
  {
   "cell_type": "code",
   "execution_count": 17,
   "metadata": {},
   "outputs": [
    {
     "name": "stdout",
     "output_type": "stream",
     "text": [
      "[0, 1]\n"
     ]
    }
   ],
   "source": [
    "solution = Solution()\n",
    "nums = [2, 7, 11, 15]\n",
    "target = 9\n",
    "result = solution.twoSum(nums, target)\n",
    "print(result)  # Output: [0, 1]"
   ]
  },
  {
   "cell_type": "markdown",
   "metadata": {},
   "source": [
    "Fix following code error, and explain why, hit: diff means"
   ]
  },
  {
   "cell_type": "code",
   "execution_count": 3,
   "metadata": {},
   "outputs": [
    {
     "name": "stdout",
     "output_type": "stream",
     "text": [
      "[-1, -1]\n"
     ]
    }
   ],
   "source": [
    "class Solution:\n",
    "    def two_sum(slef, nums: list[int], target: int) -> list[int]:\n",
    "        num_map = {}\n",
    "        for i, num in enumerate(nums):\n",
    "            diff = target - num\n",
    "            if diff in num_map:\n",
    "                return [i, num_map[diff]]\n",
    "            else:\n",
    "                num_map[diff] = i\n",
    "\n",
    "        return [-1, -1]\n",
    "    \n",
    "solution = Solution()\n",
    "nums = [2, 7, 11, 15]\n",
    "target = 9\n",
    "result = solution.two_sum(nums, target)\n",
    "print(result)  # Output: [0, 1]"
   ]
  },
  {
   "cell_type": "code",
   "execution_count": null,
   "metadata": {},
   "outputs": [],
   "source": [
    "class Solution:\n",
    "    def twoSum(self, nums: List[int], target: int) -> List[int]:\n",
    "        num_map = {}\n",
    "        for i in range(len(nums)):\n",
    "            diff = target - nums[i]\n",
    "            if diff in num_map:\n",
    "                return [num_map[diff], i]\n",
    "            num_map[nums[i]] = i\n",
    "        \n",
    "        return [-1, -1]\n"
   ]
  }
 ],
 "metadata": {
  "kernelspec": {
   "display_name": "Python 3",
   "language": "python",
   "name": "python3"
  },
  "language_info": {
   "codemirror_mode": {
    "name": "ipython",
    "version": 3
   },
   "file_extension": ".py",
   "mimetype": "text/x-python",
   "name": "python",
   "nbconvert_exporter": "python",
   "pygments_lexer": "ipython3",
   "version": "3.12.2"
  }
 },
 "nbformat": 4,
 "nbformat_minor": 2
}
