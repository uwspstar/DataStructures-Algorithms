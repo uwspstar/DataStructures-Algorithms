{
 "cells": [
  {
   "cell_type": "markdown",
   "metadata": {},
   "source": [
    "20. Valid Parentheses\n",
    "\n",
    "https://leetcode.com/problems/valid-parentheses/description/\n",
    "\n",
    "\n",
    "Given a string s containing just the characters (, ), {, }, [ and ], determine if the input string is valid.\n",
    "\n",
    "An input string is valid if:\n",
    "\n",
    "Open brackets must be closed by the same type of brackets.\n",
    "Open brackets must be closed in the correct order.\n",
    "Example:\n",
    "\n",
    "Input: s = \"()\"\n",
    "Output: true\n",
    "Example:\n",
    "\n",
    "Input: s = \"()[]{}\"\n",
    "Output: true\n",
    "Example:\n",
    "\n",
    "Input: s = \"(]\"\n",
    "Output: false"
   ]
  },
  {
   "cell_type": "markdown",
   "metadata": {},
   "source": [
    "# Hint\n",
    "stack\n",
    "\n",
    "In Python, map is not a keyword but a built-in function."
   ]
  },
  {
   "cell_type": "code",
   "execution_count": null,
   "metadata": {},
   "outputs": [],
   "source": [
    "class Solution: # 1\n",
    "    def isValid(self, s: str) -> bool:\n",
    "        stack = []\n",
    "        mapping = {')':'(', ']': '[', '}':'{'} # 初始化一个空栈来跟踪开括号。同时，我们创建一个映射，将闭括号与其对应的开括号关联。\n",
    "        for c in s:\n",
    "            if c in mapping: # 通过在 mapping 中查找当前字符来检查它是否为闭括号。\n",
    "                top = stack.pop() if stack else '#'\n",
    "                if mapping[c] != top:\n",
    "                    return False\n",
    "            else:\n",
    "                stack.append(c)\n",
    "        \n",
    "        return not stack"
   ]
  },
  {
   "cell_type": "code",
   "execution_count": null,
   "metadata": {},
   "outputs": [],
   "source": [
    "class Solution: # 2 mapping is different\n",
    "    def isValid(self, s:str) -> bool:\n",
    "        stack = []\n",
    "        pairs ={\"(\":\")\", \"[\": \"]\", \"{\":\"}\"}\n",
    "\n",
    "        for c in s:\n",
    "            if c in pairs:\n",
    "                stack.append(c)\n",
    "            else:\n",
    "                if len(stack) == 0 or pairs[stack.pop()] != c:\n",
    "                    return False\n",
    "        \n",
    "        return len(stack) == 0\n",
    "        \n",
    "\n",
    "\n",
    "\n"
   ]
  }
 ],
 "metadata": {
  "language_info": {
   "name": "python"
  }
 },
 "nbformat": 4,
 "nbformat_minor": 2
}
