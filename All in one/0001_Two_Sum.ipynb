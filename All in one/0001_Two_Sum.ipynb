{
 "cells": [
  {
   "cell_type": "markdown",
   "metadata": {},
   "source": [
    "# LeetCode: 1 Two Sum\n",
    "\n",
    "# https://leetcode.com/problems/two-sum/description/\n",
    "\n",
    "Given an array of integers nums and an integer target, return indices of the two numbers such that they add up to target. You may assume that each input would have exactly one solution, and you may not use the same element twice. You can return the answer in any order.\n",
    "\n",
    "Example:\n",
    "\n",
    "Input: nums = [2,7,11,15], target = 9\n",
    "Output: [0,1]\n",
    "Explanation: Because nums[0] + nums[1] == 9, we return [0, 1].\n",
    "Input: nums = [3,2,4], target = 6\n",
    "Output: [1,2]\n",
    "Input: nums = [3,3], target = 6\n",
    "Output: [0,1]"
   ]
  },
  {
   "cell_type": "markdown",
   "metadata": {},
   "source": [
    "# Hint\n",
    "\n",
    "Hashmap\n",
    "diff = target - num\n",
    "i, num in enumerate(nums)"
   ]
  },
  {
   "cell_type": "code",
   "execution_count": 13,
   "metadata": {},
   "outputs": [],
   "source": [
    "class Solution:\n",
    "    def twoSum(self, nums: list[int], target: int) -> list[int]: \n",
    "        num_map = {}\n",
    "        for i, num in enumerate(nums):\n",
    "            diff = target - num\n",
    "            if diff in num_map:\n",
    "                return [num_map[diff], i]\n",
    "            else:\n",
    "                num_map[num] = i\n",
    "        \n",
    "        return [-1, -1]\n",
    "\n"
   ]
  },
  {
   "cell_type": "code",
   "execution_count": 17,
   "metadata": {},
   "outputs": [
    {
     "name": "stdout",
     "output_type": "stream",
     "text": [
      "[0, 1]\n"
     ]
    }
   ],
   "source": [
    "solution = Solution()\n",
    "nums = [2, 7, 11, 15]\n",
    "target = 9\n",
    "result = solution.twoSum(nums, target)\n",
    "print(result)  # Output: [0, 1]"
   ]
  }
 ],
 "metadata": {
  "kernelspec": {
   "display_name": "Python 3",
   "language": "python",
   "name": "python3"
  },
  "language_info": {
   "codemirror_mode": {
    "name": "ipython",
    "version": 3
   },
   "file_extension": ".py",
   "mimetype": "text/x-python",
   "name": "python",
   "nbconvert_exporter": "python",
   "pygments_lexer": "ipython3",
   "version": "3.12.2"
  }
 },
 "nbformat": 4,
 "nbformat_minor": 2
}
